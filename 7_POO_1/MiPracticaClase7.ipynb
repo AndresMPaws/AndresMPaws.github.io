{
  "nbformat": 4,
  "nbformat_minor": 0,
  "metadata": {
    "colab": {
      "provenance": [],
      "authorship_tag": "ABX9TyMimJLMz1HNxA1pDN6B9SWR",
      "include_colab_link": true
    },
    "kernelspec": {
      "name": "python3",
      "display_name": "Python 3"
    },
    "language_info": {
      "name": "python"
    }
  },
  "cells": [
    {
      "cell_type": "markdown",
      "metadata": {
        "id": "view-in-github",
        "colab_type": "text"
      },
      "source": [
        "<a href=\"https://colab.research.google.com/github/AndresMPaws/AndresMPaws.github.io/blob/main/7_POO_1/MiPracticaClase7.ipynb\" target=\"_parent\"><img src=\"https://colab.research.google.com/assets/colab-badge.svg\" alt=\"Open In Colab\"/></a>"
      ]
    },
    {
      "cell_type": "markdown",
      "source": [
        "# CLASE 7 POO"
      ],
      "metadata": {
        "id": "ROv2d-VGf-m0"
      }
    },
    {
      "cell_type": "code",
      "execution_count": 1,
      "metadata": {
        "id": "aBwzE_H6f6gU"
      },
      "outputs": [],
      "source": [
        "class Persona: #Defino mi clase\n",
        "  def __init__(self, nombre, apellido, edad): #Utilizo el metodo init\n",
        "    self.nombre = nombre #Inicializar mis atributos\n",
        "    self.apellido = apellido\n",
        "    self.edad = edad"
      ]
    },
    {
      "cell_type": "code",
      "source": [
        "persona1 = Persona(\"andres\",\"muñoz\",25)"
      ],
      "metadata": {
        "id": "tPjyXsBZgEaR"
      },
      "execution_count": 2,
      "outputs": []
    },
    {
      "cell_type": "code",
      "source": [
        "persona1.nombre, persona1.apellido, persona1.edad"
      ],
      "metadata": {
        "colab": {
          "base_uri": "https://localhost:8080/"
        },
        "id": "ebFXk-oGgFcp",
        "outputId": "194a7326-e453-424f-80dc-0558d5439d7d"
      },
      "execution_count": 3,
      "outputs": [
        {
          "output_type": "execute_result",
          "data": {
            "text/plain": [
              "('andres', 'muñoz', 25)"
            ]
          },
          "metadata": {},
          "execution_count": 3
        }
      ]
    }
  ]
}